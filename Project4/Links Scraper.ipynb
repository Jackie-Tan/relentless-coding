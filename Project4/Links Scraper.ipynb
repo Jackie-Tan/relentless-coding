{
 "cells": [
  {
   "cell_type": "code",
   "execution_count": 1,
   "metadata": {},
   "outputs": [],
   "source": [
    "from time import sleep\n",
    "from selenium import webdriver\n",
    "\n",
    "import pandas as pd\n",
    "from scrapy.selector import Selector"
   ]
  },
  {
   "cell_type": "code",
   "execution_count": 2,
   "metadata": {},
   "outputs": [],
   "source": [
    "driver = webdriver.Chrome(executable_path=[YOUR_CHROME_DRIVER_HERE])"
   ]
  },
  {
   "cell_type": "code",
   "execution_count": null,
   "metadata": {},
   "outputs": [],
   "source": [
    "keywords = ['Machine Learning', 'Research Scientist', 'Business Intelligence', 'Data Engineer', 'Tableau', 'deep learning', 'computer vision', 'tensorflow']\n",
    "for keyword in keywords:\n",
    "    job_links = []\n",
    "    driver.get(YOUR_URL_HERE)\n",
    "    sleep(2)\n",
    "    HTML = driver.page_source\n",
    "    num_jobs = int(Selector(text=HTML).xpath(\"//div[contains(text(), 'jobs found')]/text()\").extract()[0].split()[0].replace(',',''))\n",
    "    print(str(num_jobs), 'jobs found!')\n",
    "    for i in range(num_jobs // 20 + 1):\n",
    "        print('Scraping page', i)\n",
    "        url = [YOUR_URL_HERE]+ str(i)\n",
    "        driver.get(url)\n",
    "        sleep(2)\n",
    "        all_cards = driver.find_elements_by_css_selector('a.JobCard__card___22xP3')\n",
    "        for link in all_cards:\n",
    "            job_links.append(link.get_attribute('href'))\n",
    "        print(len(job_links), 'links recorded!')\n",
    "        sleep(0.5)\n",
    "    pd.Series(job_links).to_csv(path_or_buf=keyword + ' job links.csv',index=False, header=False)"
   ]
  }
 ],
 "metadata": {
  "kernelspec": {
   "display_name": "Python 3",
   "language": "python",
   "name": "python3"
  },
  "language_info": {
   "codemirror_mode": {
    "name": "ipython",
    "version": 3
   },
   "file_extension": ".py",
   "mimetype": "text/x-python",
   "name": "python",
   "nbconvert_exporter": "python",
   "pygments_lexer": "ipython3",
   "version": "3.6.8"
  }
 },
 "nbformat": 4,
 "nbformat_minor": 2
}
